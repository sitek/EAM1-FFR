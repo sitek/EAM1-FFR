{
 "cells": [
  {
   "cell_type": "code",
   "execution_count": 1,
   "metadata": {},
   "outputs": [],
   "source": [
    "import mne\n",
    "import numpy as np\n",
    "import os\n",
    "from glob import glob\n",
    "\n",
    "from mne_bids import BIDSPath, write_raw_bids"
   ]
  },
  {
   "cell_type": "code",
   "execution_count": 8,
   "metadata": {},
   "outputs": [],
   "source": [
    "# project directory\n",
    "proj_dir = os.path.join('/Users/dsj3886/',\n",
    "                        'data_local',\n",
    "                        'EAM1',)\n",
    "\n",
    "# raw data directory (need to specify for your computer)\n",
    "data_dir = os.path.join(proj_dir, 'EEG_raw')"
   ]
  },
  {
   "cell_type": "code",
   "execution_count": 9,
   "metadata": {},
   "outputs": [],
   "source": [
    "# output BIDS directory to be created/filled\n",
    "bids_dir = os.path.join(proj_dir,\n",
    "                        'data-bids')"
   ]
  },
  {
   "cell_type": "code",
   "execution_count": 75,
   "metadata": {},
   "outputs": [
    {
     "name": "stdout",
     "output_type": "stream",
     "text": [
      "Extracting EDF parameters from /Users/dsj3886/data_local/EAM1/EEG_raw/sub-21_task-active_run-4.bdf...\n",
      "BDF file detected\n",
      "Setting channel info structure...\n",
      "Creating raw.info structure...\n"
     ]
    }
   ],
   "source": [
    "# define input EEG file\n",
    "# TODO: change to loops\n",
    "sub_label  = '21'\n",
    "task_label = 'active' # 'passive', 'active'\n",
    "run_label  = '4'\n",
    "\n",
    "data_fpath = os.path.join(data_dir,\n",
    "                          f'sub-{sub_label}_task-{task_label}_run-{run_label}.bdf')\n",
    "\n",
    "# read in input EEG file\n",
    "raw_data = mne.io.read_raw_bdf(data_fpath)"
   ]
  },
  {
   "cell_type": "code",
   "execution_count": 76,
   "metadata": {},
   "outputs": [
    {
     "name": "stdout",
     "output_type": "stream",
     "text": [
      "3603 events found on stim channel Status\n",
      "Event IDs: [    3     4     7    10   131   132   135   138 65536 65790]\n"
     ]
    }
   ],
   "source": [
    "events_raw = mne.find_events(raw_data, \n",
    "                             stim_channel='Status', \n",
    "                             initial_event=True)"
   ]
  },
  {
   "cell_type": "code",
   "execution_count": 77,
   "metadata": {},
   "outputs": [],
   "source": [
    "# define event labels and codes (differs per participant)\n",
    "if int(sub_label) > 19:\n",
    "    event_dict = {'passive/pos': 1,\n",
    "                 'passive/neg': 2,\n",
    "                 'active/pos': 3,\n",
    "                 'active/neg': 4}\n",
    "elif int(sub_label) > 13:\n",
    "    event_dict = {'pos': 1,\n",
    "                  'neg': 2,}\n",
    "elif int(sub_label) < 13:\n",
    "    print('all active coded as 2049.',\n",
    "         '  need to fix')\n",
    "    #event_dict = {'pos': 2049,\n",
    "    #              'neg': 2050,}"
   ]
  },
  {
   "cell_type": "code",
   "execution_count": 78,
   "metadata": {},
   "outputs": [
    {
     "name": "stdout",
     "output_type": "stream",
     "text": [
      "task event codes: [3 4]\n"
     ]
    }
   ],
   "source": [
    "# only keep task-related events\n",
    "events = mne.pick_events(events_raw, include=[1, 2, 3, 4, 2049, 2050])\n",
    "print('task event codes:', np.unique(events[:,2]))"
   ]
  },
  {
   "cell_type": "code",
   "execution_count": 79,
   "metadata": {},
   "outputs": [],
   "source": [
    "# define the BIDSPath object for converting this EEG file\n",
    "bids_path = BIDSPath(subject=sub_label, \n",
    "                     run=run_label, \n",
    "                     task=task_label,\n",
    "                     datatype='eeg', \n",
    "                     root=bids_dir, )"
   ]
  },
  {
   "cell_type": "code",
   "execution_count": 80,
   "metadata": {},
   "outputs": [
    {
     "name": "stdout",
     "output_type": "stream",
     "text": [
      "Extracting EDF parameters from /Users/dsj3886/data_local/EAM1/EEG_raw/sub-21_task-active_run-4.bdf...\n",
      "BDF file detected\n",
      "Setting channel info structure...\n",
      "Creating raw.info structure...\n",
      "Writing '/Users/dsj3886/data_local/EAM1/data-bids/participants.tsv'...\n",
      "Writing '/Users/dsj3886/data_local/EAM1/data-bids/participants.json'...\n",
      "Used Annotations descriptions: ['active/neg', 'active/pos']\n",
      "Writing '/Users/dsj3886/data_local/EAM1/data-bids/sub-21/eeg/sub-21_task-active_run-4_events.tsv'...\n",
      "Writing '/Users/dsj3886/data_local/EAM1/data-bids/sub-21/eeg/sub-21_task-active_run-4_events.json'...\n",
      "Writing '/Users/dsj3886/data_local/EAM1/data-bids/dataset_description.json'...\n",
      "Writing '/Users/dsj3886/data_local/EAM1/data-bids/sub-21/eeg/sub-21_task-active_run-4_eeg.json'...\n",
      "Writing '/Users/dsj3886/data_local/EAM1/data-bids/sub-21/eeg/sub-21_task-active_run-4_channels.tsv'...\n",
      "Copying data files to sub-21_task-active_run-4_eeg.bdf\n",
      "Writing '/Users/dsj3886/data_local/EAM1/data-bids/sub-21/sub-21_scans.tsv'...\n",
      "Wrote /Users/dsj3886/data_local/EAM1/data-bids/sub-21/sub-21_scans.tsv entry with eeg/sub-21_task-active_run-4_eeg.bdf.\n"
     ]
    },
    {
     "data": {
      "text/plain": [
       "BIDSPath(\n",
       "root: /Users/dsj3886/data_local/EAM1/data-bids\n",
       "datatype: eeg\n",
       "basename: sub-21_task-active_run-4_eeg.bdf)"
      ]
     },
     "execution_count": 80,
     "metadata": {},
     "output_type": "execute_result"
    }
   ],
   "source": [
    "# finally, do the raw-to-BIDS conversion\n",
    "write_raw_bids(raw_data, \n",
    "               bids_path=bids_path,   \n",
    "               events=events,\n",
    "               event_id=event_dict,\n",
    "               overwrite=True\n",
    "              )"
   ]
  },
  {
   "cell_type": "code",
   "execution_count": null,
   "metadata": {},
   "outputs": [],
   "source": []
  },
  {
   "cell_type": "code",
   "execution_count": null,
   "metadata": {},
   "outputs": [],
   "source": []
  }
 ],
 "metadata": {
  "kernelspec": {
   "display_name": "py23",
   "language": "python",
   "name": "python3"
  },
  "language_info": {
   "codemirror_mode": {
    "name": "ipython",
    "version": 3
   },
   "file_extension": ".py",
   "mimetype": "text/x-python",
   "name": "python",
   "nbconvert_exporter": "python",
   "pygments_lexer": "ipython3",
   "version": "3.11.4"
  }
 },
 "nbformat": 4,
 "nbformat_minor": 2
}
