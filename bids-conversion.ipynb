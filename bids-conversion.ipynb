{
 "cells": [
  {
   "cell_type": "code",
   "execution_count": 1,
   "metadata": {},
   "outputs": [],
   "source": [
    "import mne\n",
    "import numpy as np\n",
    "import os\n",
    "from glob import glob\n",
    "\n",
    "from mne_bids import BIDSPath, write_raw_bids"
   ]
  },
  {
   "cell_type": "code",
   "execution_count": null,
   "metadata": {},
   "outputs": [],
   "source": [
    "# raw data directory (need to specify for your computer)\n",
    "data_dir = os.path.join('/Users/dsj3886/',\n",
    "                        'data_local',\n",
    "                        'EAM1_local',)"
   ]
  },
  {
   "cell_type": "code",
   "execution_count": 9,
   "metadata": {},
   "outputs": [],
   "source": [
    "# output BIDS directory to be created/filled\n",
    "bids_dir = os.path.join(data_dir, 'data-bids')"
   ]
  },
  {
   "cell_type": "code",
   "execution_count": 16,
   "metadata": {},
   "outputs": [
    {
     "name": "stdout",
     "output_type": "stream",
     "text": [
      "Extracting EDF parameters from /Users/dsj3886/data_local/EAM1_local/sub-21_task-active_run-2.bdf...\n",
      "BDF file detected\n",
      "Setting channel info structure...\n",
      "Creating raw.info structure...\n"
     ]
    }
   ],
   "source": [
    "# define input EEG file\n",
    "# TODO: change to loops\n",
    "sub_label  = '21'\n",
    "task_label = 'active' # 'passive'\n",
    "run_label  = '2'\n",
    "\n",
    "data_fpath = os.path.join(data_dir,\n",
    "                          f'sub-{sub_label}_task-{task_label}_run-{run_label}.bdf')\n",
    "\n",
    "# read in input EEG file\n",
    "raw_data = mne.io.read_raw_bdf(data_fpath)"
   ]
  },
  {
   "cell_type": "code",
   "execution_count": 17,
   "metadata": {},
   "outputs": [],
   "source": [
    "# define the BIDSPath object for converting this EEG file\n",
    "bids_path = BIDSPath(subject=sub_label, \n",
    "                     run=run_label, \n",
    "                     task=task_label,\n",
    "                     datatype='eeg', \n",
    "                     root=bids_dir, )"
   ]
  },
  {
   "cell_type": "code",
   "execution_count": 18,
   "metadata": {},
   "outputs": [
    {
     "name": "stdout",
     "output_type": "stream",
     "text": [
      "Extracting EDF parameters from /Users/dsj3886/data_local/EAM1_local/sub-21_task-active_run-2.bdf...\n",
      "BDF file detected\n",
      "Setting channel info structure...\n",
      "Creating raw.info structure...\n",
      "Writing '/Users/dsj3886/data_local/EAM1_local/data-bids/participants.tsv'...\n",
      "Writing '/Users/dsj3886/data_local/EAM1_local/data-bids/participants.json'...\n",
      "Writing '/Users/dsj3886/data_local/EAM1_local/data-bids/dataset_description.json'...\n",
      "Writing '/Users/dsj3886/data_local/EAM1_local/data-bids/sub-21/eeg/sub-21_task-active_run-2_eeg.json'...\n",
      "Writing '/Users/dsj3886/data_local/EAM1_local/data-bids/sub-21/eeg/sub-21_task-active_run-2_channels.tsv'...\n",
      "Copying data files to sub-21_task-active_run-2_eeg.bdf\n",
      "Writing '/Users/dsj3886/data_local/EAM1_local/data-bids/sub-21/sub-21_scans.tsv'...\n",
      "Wrote /Users/dsj3886/data_local/EAM1_local/data-bids/sub-21/sub-21_scans.tsv entry with eeg/sub-21_task-active_run-2_eeg.bdf.\n"
     ]
    },
    {
     "name": "stderr",
     "output_type": "stream",
     "text": [
      "/var/folders/5c/_fg_mvnx2dv1jhkw5xg5fv1h0000gq/T/ipykernel_20490/1340361675.py:1: RuntimeWarning: No events found or provided. Please add annotations to the raw data, or provide the events and event_id parameters. For resting state data, BIDS recommends naming the task using labels beginning with \"rest\".\n",
      "  write_raw_bids(raw_data, bids_path=bids_path)\n"
     ]
    },
    {
     "data": {
      "text/plain": [
       "BIDSPath(\n",
       "root: /Users/dsj3886/data_local/EAM1_local/data-bids\n",
       "datatype: eeg\n",
       "basename: sub-21_task-active_run-2_eeg.bdf)"
      ]
     },
     "execution_count": 18,
     "metadata": {},
     "output_type": "execute_result"
    }
   ],
   "source": [
    "# finally, do the raw-to-BIDS conversion\n",
    "write_raw_bids(raw_data, bids_path=bids_path)"
   ]
  },
  {
   "cell_type": "code",
   "execution_count": null,
   "metadata": {},
   "outputs": [],
   "source": []
  }
 ],
 "metadata": {
  "kernelspec": {
   "display_name": "py24",
   "language": "python",
   "name": "python3"
  },
  "language_info": {
   "codemirror_mode": {
    "name": "ipython",
    "version": 3
   },
   "file_extension": ".py",
   "mimetype": "text/x-python",
   "name": "python",
   "nbconvert_exporter": "python",
   "pygments_lexer": "ipython3",
   "version": "3.12.0"
  }
 },
 "nbformat": 4,
 "nbformat_minor": 2
}
