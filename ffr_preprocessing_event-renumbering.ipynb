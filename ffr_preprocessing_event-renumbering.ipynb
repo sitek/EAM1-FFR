{
 "cells": [
  {
   "cell_type": "code",
   "execution_count": 1,
   "metadata": {},
   "outputs": [],
   "source": [
    "import os\n",
    "import mne\n",
    "import mne_bids\n",
    "import numpy as np\n",
    "import matplotlib.pyplot as plt\n",
    "\n",
    "from glob import glob\n",
    "from mne_bids import BIDSPath, find_matching_paths, make_report, print_dir_tree, read_raw_bids"
   ]
  },
  {
   "cell_type": "code",
   "execution_count": 2,
   "metadata": {},
   "outputs": [
    {
     "name": "stdout",
     "output_type": "stream",
     "text": [
      "MNE–Python version 1.8.0\n",
      "MNE–BIDS version 0.16.0\n"
     ]
    }
   ],
   "source": [
    "print('MNE–Python version', mne.__version__)\n",
    "print('MNE–BIDS version', mne_bids.__version__)"
   ]
  },
  {
   "cell_type": "markdown",
   "metadata": {},
   "source": [
    "# Participant event notes"
   ]
  },
  {
   "cell_type": "markdown",
   "metadata": {},
   "source": [
    "- sub-001 - pilot; same participant as sub-002; DO NOT RUN\n",
    "- sub-002 - \n",
    "- sub-003 - \n",
    "- sub-004 - \n",
    "- sub-005 - \n",
    "- sub-006 - \n",
    "- sub-007 - \n",
    "- sub-008 - \n",
    "- sub-009 - \n",
    "- sub-010 - \n",
    "- sub-011 - \n",
    "- sub-012 - issues with trigger codes, do not analyze. need to rerun participant\n",
    "- sub-013 - * changed trigger codes? *\n",
    "- sub-014 - \n",
    "- sub-015 - \n",
    "- sub-016 - \n",
    "- sub-017 - \n",
    "- sub-018 - \n",
    "- sub-019 - \n",
    "- sub-020 - *changed cond-Active Presentation codes to 3 and 4 *\t\t\t\t\t\n",
    "- sub-021 - \n",
    "- sub-022 - \n",
    "- sub-023 - \n",
    "- sub-024 - \n",
    "- sub-025 - \n",
    "- sub-026 - \n",
    "- sub-027 - \n",
    "- sub-028 - \n",
    "- sub-029 - "
   ]
  },
  {
   "cell_type": "markdown",
   "metadata": {},
   "source": [
    "# Check event codes per subject, task, run"
   ]
  },
  {
   "cell_type": "code",
   "execution_count": null,
   "metadata": {},
   "outputs": [],
   "source": [
    "# initialize an empty dictionary for data\n",
    "task_evoked_dict = {}\n",
    "event_evoked_dict = {}\n",
    "\n",
    "for participant_label in subject_list:\n",
    "    for task_label in task_list:\n",
    "        print(f'Loading {task_label} data')\n",
    "\n",
    "        bdf_list = sorted(glob(data_dir + f'/sub-{sub_label}*{task_label}*bdf'))\n",
    "        print(f'task-{task_label} bdf files:', bdf_list)\n",
    "\n",
    "        events_list = []\n",
    "\n",
    "        for rx, bdf_path in enumerate(bdf_list):\n",
    "            print(f'Loading task-{task_label} run-{rx+1}')\n",
    "\n",
    "            # load in EEG data\n",
    "            bids_path = BIDSPath(root=bids_root, datatype='eeg')\n",
    "            bids_path = bids_path.update(subject=sub_label, task=task_label, run=run_label)\n",
    "            data = read_raw_bids(bids_path=bids_path, verbose=False)\n",
    "            data = data.load_data()\n",
    "\n",
    "            # find events\n",
    "            events = mne.find_events(data, \n",
    "                                    stim_channel='Status', \n",
    "                                    initial_event=True)\n",
    "\n",
    "            \n",
    "            events_list.append(events)\n",
    "\n",
    "            #except:\n",
    "            #    print(f\"No run {run_label} for task-{task_label}\")\n",
    "\n",
    "        # create evoked average from across-run epochs\n",
    "        event_evoked = all_epochs.average(by_event_type=True)\n",
    "        all_evoked = all_epochs.average()\n",
    "\n",
    "        # add to results dict\n",
    "        event_evoked_dict[task_label] = event_evoked\n",
    "\n"
   ]
  },
  {
   "cell_type": "markdown",
   "metadata": {},
   "source": [
    "### define inputs"
   ]
  },
  {
   "cell_type": "code",
   "execution_count": 3,
   "metadata": {},
   "outputs": [],
   "source": [
    "sub_label = '21'\n",
    "task_label = 'passive'\n",
    "run_label = '1'"
   ]
  },
  {
   "cell_type": "code",
   "execution_count": null,
   "metadata": {},
   "outputs": [],
   "source": [
    "if int(sub_label) > 19:\n",
    "    event_dict = {'passive/pos': 1,\n",
    "                 'passive/neg': 2,\n",
    "                 'active/pos': 3,\n",
    "                 'active/neg': 4}\n",
    "elif int(sub_label) > 13:\n",
    "    event_dict = {'pos': 1,\n",
    "                  'neg': 2,}\n",
    "elif int(sub_label) < 13:\n",
    "    print('all active coded as 2049.',\n",
    "         '  need to fix')\n",
    "    #event_dict = {'pos': 2049,\n",
    "    #              'neg': 2050,}"
   ]
  },
  {
   "cell_type": "code",
   "execution_count": 4,
   "metadata": {},
   "outputs": [
    {
     "name": "stdout",
     "output_type": "stream",
     "text": [
      "|data-bids/\n",
      "|--- .DS_Store\n",
      "|--- README\n",
      "|--- dataset_description.json\n",
      "|--- participants.json\n",
      "|--- participants.tsv\n",
      "|--- sub-21/\n",
      "|------ .DS_Store\n",
      "|------ sub-21_scans.tsv\n",
      "|------ eeg/\n",
      "|--------- sub-21_task-active_run-1_channels.tsv\n",
      "|--------- sub-21_task-active_run-1_eeg.bdf\n",
      "|--------- sub-21_task-active_run-1_eeg.json\n",
      "|--------- sub-21_task-active_run-2_channels.tsv\n",
      "|--------- sub-21_task-active_run-2_eeg.bdf\n",
      "|--------- sub-21_task-active_run-2_eeg.json\n",
      "|--------- sub-21_task-passive_run-1_channels.tsv\n",
      "|--------- sub-21_task-passive_run-1_eeg.bdf\n",
      "|--------- sub-21_task-passive_run-1_eeg.json\n",
      "|--------- sub-21_task-passive_run-2_channels.tsv\n",
      "|--------- sub-21_task-passive_run-2_eeg.bdf\n",
      "|--------- sub-21_task-passive_run-2_eeg.json\n"
     ]
    }
   ],
   "source": [
    "bids_root = os.path.join('/Users/dsj3886/data_local/',\n",
    "                        'EAM1_local/data-bids')\n",
    "#bids_root = os.path.join('/Users/dsj3886/data_local/',\n",
    "#                        'EAM1/eam1_personal/data-bids')\n",
    "\n",
    "print_dir_tree(bids_root)"
   ]
  },
  {
   "cell_type": "code",
   "execution_count": 5,
   "metadata": {},
   "outputs": [
    {
     "name": "stdout",
     "output_type": "stream",
     "text": [
      "Summarizing participants.tsv /Users/dsj3886/data_local/EAM1_local/data-bids/participants.tsv...\n",
      "Summarizing scans.tsv files [PosixPath('/Users/dsj3886/data_local/EAM1_local/data-bids/sub-21/sub-21_scans.tsv')]...\n",
      "The participant template found: sex were all unknown;\n",
      "handedness were all unknown;\n",
      "ages all unknown\n",
      " The [Unspecified] dataset was created by [Unspecified1], and [Unspecified2] and\n",
      "conforms to BIDS version 1.7.0. This report was generated with MNE-BIDS\n",
      "(https://doi.org/10.21105/joss.01896). The dataset consists of 1 participants\n",
      "(sex were all unknown; handedness were all unknown; ages all unknown) . Data was\n",
      "recorded using an EEG system (Biosemi) sampled at 16384.0 Hz with line noise at\n",
      "n/a Hz. There were 4 scans in total. Recording durations ranged from 430.0 to\n",
      "606.0 seconds (mean = 543.0, std = 71.73), for a total of 2172.0 seconds of data\n",
      "recorded over all scans. For each dataset, there were on average 5.0 (std = 0.0)\n",
      "recording channels per scan, out of which 5.0 (std = 0.0) were used in analysis\n",
      "(0.0 +/- 0.0 were removed from analysis).\n"
     ]
    }
   ],
   "source": [
    "print(make_report(bids_root))"
   ]
  },
  {
   "cell_type": "code",
   "execution_count": 11,
   "metadata": {},
   "outputs": [],
   "source": [
    "bids_paths = find_matching_paths(bids_root, \n",
    "                                 datatypes='eeg', \n",
    "                                 extensions=['.bdf'])"
   ]
  },
  {
   "cell_type": "code",
   "execution_count": 12,
   "metadata": {},
   "outputs": [
    {
     "name": "stdout",
     "output_type": "stream",
     "text": [
      "[BIDSPath(\n",
      "root: /Users/dsj3886/data_local/EAM1_local/data-bids\n",
      "datatype: eeg\n",
      "basename: sub-21_task-active_run-1_eeg.bdf), BIDSPath(\n",
      "root: /Users/dsj3886/data_local/EAM1_local/data-bids\n",
      "datatype: eeg\n",
      "basename: sub-21_task-active_run-2_eeg.bdf), BIDSPath(\n",
      "root: /Users/dsj3886/data_local/EAM1_local/data-bids\n",
      "datatype: eeg\n",
      "basename: sub-21_task-passive_run-1_eeg.bdf), BIDSPath(\n",
      "root: /Users/dsj3886/data_local/EAM1_local/data-bids\n",
      "datatype: eeg\n",
      "basename: sub-21_task-passive_run-2_eeg.bdf)]\n"
     ]
    }
   ],
   "source": [
    "print(bids_paths)"
   ]
  },
  {
   "cell_type": "code",
   "execution_count": null,
   "metadata": {},
   "outputs": [
    {
     "name": "stdout",
     "output_type": "stream",
     "text": [
      "/Users/dsj3886/data_local/EAM1_local/data-bids/sub-21/eeg/sub-21_task-active_run-1_eeg.bdf\n"
     ]
    },
    {
     "name": "stderr",
     "output_type": "stream",
     "text": [
      "/var/folders/5c/_fg_mvnx2dv1jhkw5xg5fv1h0000gq/T/ipykernel_76024/988240655.py:3: RuntimeWarning: Did not find any events.tsv associated with sub-21_task-active_run-1.\n",
      "\n",
      "The search_str was \"/Users/dsj3886/data_local/EAM1_local/data-bids/sub-21/**/eeg/sub-21*events.tsv\"\n",
      "  data = read_raw_bids(bids_path=f, verbose=False)\n"
     ]
    },
    {
     "name": "stdout",
     "output_type": "stream",
     "text": [
      "3614 events found on stim channel Status\n",
      "Event IDs: [    3     4     7    10   138 65536 65790]\n",
      "\n",
      "\n",
      "/Users/dsj3886/data_local/EAM1_local/data-bids/sub-21/eeg/sub-21_task-active_run-2_eeg.bdf\n"
     ]
    },
    {
     "name": "stderr",
     "output_type": "stream",
     "text": [
      "/var/folders/5c/_fg_mvnx2dv1jhkw5xg5fv1h0000gq/T/ipykernel_76024/988240655.py:3: RuntimeWarning: Did not find any events.tsv associated with sub-21_task-active_run-2.\n",
      "\n",
      "The search_str was \"/Users/dsj3886/data_local/EAM1_local/data-bids/sub-21/**/eeg/sub-21*events.tsv\"\n",
      "  data = read_raw_bids(bids_path=f, verbose=False)\n"
     ]
    },
    {
     "name": "stdout",
     "output_type": "stream",
     "text": [
      "3603 events found on stim channel Status\n",
      "Event IDs: [    1     3     4     7    10   138 65536 65790]\n",
      "\n",
      "\n",
      "/Users/dsj3886/data_local/EAM1_local/data-bids/sub-21/eeg/sub-21_task-passive_run-1_eeg.bdf\n"
     ]
    },
    {
     "name": "stderr",
     "output_type": "stream",
     "text": [
      "/var/folders/5c/_fg_mvnx2dv1jhkw5xg5fv1h0000gq/T/ipykernel_76024/988240655.py:3: RuntimeWarning: Did not find any events.tsv associated with sub-21_task-passive_run-1.\n",
      "\n",
      "The search_str was \"/Users/dsj3886/data_local/EAM1_local/data-bids/sub-21/**/eeg/sub-21*events.tsv\"\n",
      "  data = read_raw_bids(bids_path=f, verbose=False)\n"
     ]
    },
    {
     "name": "stdout",
     "output_type": "stream",
     "text": [
      "1202 events found on stim channel Status\n",
      "Event IDs: [    1     2   130   254 65536]\n",
      "\n",
      "\n",
      "/Users/dsj3886/data_local/EAM1_local/data-bids/sub-21/eeg/sub-21_task-passive_run-2_eeg.bdf\n"
     ]
    },
    {
     "name": "stderr",
     "output_type": "stream",
     "text": [
      "/var/folders/5c/_fg_mvnx2dv1jhkw5xg5fv1h0000gq/T/ipykernel_76024/988240655.py:3: RuntimeWarning: Did not find any events.tsv associated with sub-21_task-passive_run-2.\n",
      "\n",
      "The search_str was \"/Users/dsj3886/data_local/EAM1_local/data-bids/sub-21/**/eeg/sub-21*events.tsv\"\n",
      "  data = read_raw_bids(bids_path=f, verbose=False)\n"
     ]
    },
    {
     "name": "stdout",
     "output_type": "stream",
     "text": [
      "1202 events found on stim channel Status\n",
      "Event IDs: [    1     2 65536 65790]\n",
      "\n",
      "\n"
     ]
    }
   ],
   "source": [
    "for f in bids_paths:\n",
    "    print(f)\n",
    "    data = read_raw_bids(bids_path=f, verbose=False)\n",
    "    events = mne.find_events(data, stim_channel='Status')\n",
    "    print('\\n')"
   ]
  },
  {
   "cell_type": "code",
   "execution_count": 8,
   "metadata": {},
   "outputs": [],
   "source": [
    "bids_path = BIDSPath(root=bids_root, datatype='eeg')"
   ]
  },
  {
   "cell_type": "code",
   "execution_count": 9,
   "metadata": {},
   "outputs": [],
   "source": [
    "bids_path = bids_path.update(subject=sub_label, task=task_label, run=run_label)"
   ]
  },
  {
   "cell_type": "code",
   "execution_count": null,
   "metadata": {},
   "outputs": [],
   "source": [
    "bids_path"
   ]
  },
  {
   "cell_type": "markdown",
   "metadata": {},
   "source": [
    "### load EEG data"
   ]
  },
  {
   "cell_type": "code",
   "execution_count": null,
   "metadata": {},
   "outputs": [],
   "source": [
    "data = read_raw_bids(bids_path=bids_path, verbose=False)\n",
    "data = data.load_data()"
   ]
  },
  {
   "cell_type": "code",
   "execution_count": null,
   "metadata": {},
   "outputs": [],
   "source": [
    "print(data.info)"
   ]
  },
  {
   "cell_type": "code",
   "execution_count": null,
   "metadata": {},
   "outputs": [],
   "source": [
    "data.plot(duration=0.4, \n",
    "          n_channels=3,\n",
    "          remove_dc=True);"
   ]
  },
  {
   "cell_type": "markdown",
   "metadata": {},
   "source": [
    "### set reference channels"
   ]
  },
  {
   "cell_type": "code",
   "execution_count": null,
   "metadata": {},
   "outputs": [],
   "source": [
    "data_ref = data.set_eeg_reference(ref_channels=['M1', 'M2'])"
   ]
  },
  {
   "cell_type": "code",
   "execution_count": null,
   "metadata": {},
   "outputs": [],
   "source": [
    "print(data_ref.info)"
   ]
  },
  {
   "cell_type": "code",
   "execution_count": null,
   "metadata": {},
   "outputs": [],
   "source": [
    "data_ref.plot(duration=0.4, \n",
    "              n_channels=3, \n",
    "              remove_dc=True);"
   ]
  },
  {
   "cell_type": "markdown",
   "metadata": {},
   "source": [
    "### filter data"
   ]
  },
  {
   "cell_type": "code",
   "execution_count": null,
   "metadata": {},
   "outputs": [],
   "source": [
    "data_filtered = data_ref.copy().filter(l_freq = 65, h_freq = 2000)"
   ]
  },
  {
   "cell_type": "code",
   "execution_count": null,
   "metadata": {},
   "outputs": [],
   "source": [
    "data_filtered"
   ]
  },
  {
   "cell_type": "code",
   "execution_count": null,
   "metadata": {},
   "outputs": [],
   "source": [
    "data_filtered.plot(duration=0.4, \n",
    "                   n_channels=3, \n",
    "                   remove_dc=True);"
   ]
  },
  {
   "cell_type": "markdown",
   "metadata": {},
   "source": [
    "### Find events in the trigger channel"
   ]
  },
  {
   "cell_type": "code",
   "execution_count": null,
   "metadata": {},
   "outputs": [],
   "source": [
    "events = mne.find_events(data_filtered, \n",
    "                         stim_channel='Status', \n",
    "                         initial_event=True)"
   ]
  },
  {
   "cell_type": "code",
   "execution_count": null,
   "metadata": {},
   "outputs": [],
   "source": [
    "# unique_events, unique_indices, unique_inverse, count_events = \n",
    "unique, counts = np.unique(events[:,2], return_counts=True)\n",
    "print(unique)\n",
    "print(counts)\n"
   ]
  },
  {
   "cell_type": "code",
   "execution_count": null,
   "metadata": {},
   "outputs": [],
   "source": [
    "for tx, trigger in enumerate(unique):\n",
    "    print(f'trigger code {trigger} – {counts[tx]} events')"
   ]
  },
  {
   "cell_type": "code",
   "execution_count": 24,
   "metadata": {},
   "outputs": [],
   "source": [
    "event_dict = {'pol_pos': 1, #2049,\n",
    "              'pol_neg': 2, #2050,\n",
    "              #'button_1': 7, #6144,\n",
    "              #'button_2': 6145,\n",
    "              #'button_3': 6149,\n",
    "              }"
   ]
  },
  {
   "cell_type": "code",
   "execution_count": null,
   "metadata": {},
   "outputs": [],
   "source": [
    "fig = mne.viz.plot_events(\n",
    "            events[:100], event_id=event_dict, \n",
    "            sfreq=data_filtered.info[\"sfreq\"], \n",
    "            first_samp=data_filtered.first_samp\n",
    ")"
   ]
  },
  {
   "cell_type": "markdown",
   "metadata": {},
   "source": [
    "### Epoch the data based on events"
   ]
  },
  {
   "cell_type": "code",
   "execution_count": null,
   "metadata": {},
   "outputs": [],
   "source": [
    "epochs = mne.Epochs(data_filtered, \n",
    "                    events, \n",
    "                    event_id=event_dict,\n",
    "                    picks=['Cz'],\n",
    "                    tmin=-0.05, tmax=0.4, \n",
    "                    baseline=[-0.05, 0],\n",
    "                    reject=dict(eeg=75e-6)).drop_bad()\n"
   ]
  },
  {
   "cell_type": "code",
   "execution_count": null,
   "metadata": {},
   "outputs": [],
   "source": [
    "print(epochs.info)"
   ]
  },
  {
   "cell_type": "code",
   "execution_count": null,
   "metadata": {},
   "outputs": [],
   "source": [
    "# plot the first few epochs\n",
    "epochs.plot(n_epochs = 5, \n",
    "            events=True);"
   ]
  },
  {
   "cell_type": "code",
   "execution_count": null,
   "metadata": {},
   "outputs": [],
   "source": [
    "# save epoched data to a new file\n",
    "#epochs.save(f'sub-{sub_label}_task-{task_label}_run-{run_label}_epochs.fif', overwrite = True)"
   ]
  },
  {
   "cell_type": "code",
   "execution_count": null,
   "metadata": {},
   "outputs": [],
   "source": [
    "'''%matplotlib\n",
    "#plot erg channel with triggers\n",
    "#define start\n",
    "t1start = (events[1,0])/data_filtered.info['sfreq']\n",
    "tend = events[8,0]/(data_filtered.info['sfreq'])#*5*60) #right now this plots the first 9 epochs\n",
    "data_filtered.plot(\n",
    "    events=events,\n",
    "    start=t1start,\n",
    "    duration=tend,\n",
    "    color=\"gray\",\n",
    "    picks='Erg1'\n",
    ")\n",
    "'''"
   ]
  },
  {
   "cell_type": "markdown",
   "metadata": {},
   "source": [
    "# Combine multiple runs"
   ]
  },
  {
   "cell_type": "code",
   "execution_count": 46,
   "metadata": {},
   "outputs": [],
   "source": [
    "sub_label = '12'\n",
    "task_list = ['active', 'passive', 'motor']\n",
    "\n",
    "data_dir = os.path.join('/Users/dsj3886/data_local/EAM1/',\n",
    "                        #'EEG_raw'\n",
    "                        )"
   ]
  },
  {
   "cell_type": "code",
   "execution_count": 47,
   "metadata": {},
   "outputs": [],
   "source": [
    "# define events of interest based on trigger code\n",
    "event_dict = {'sound/pos': 2049,\n",
    "                'sound/neg': 2050,\n",
    "                'button_press/1': 6144,\n",
    "                'button_press/2': 10240,\n",
    "                'button_press/3': 18432,\n",
    "                'button_press/4': 34816,\n",
    "                }"
   ]
  },
  {
   "cell_type": "code",
   "execution_count": null,
   "metadata": {},
   "outputs": [],
   "source": [
    "# initialize an empty dictionary for data\n",
    "task_evoked_dict = {}\n",
    "event_evoked_dict = {}\n",
    "\n",
    "for task_label in task_list:\n",
    "    print(f'Loading {task_label} data')\n",
    "\n",
    "    bdf_list = sorted(glob(data_dir + f'/sub-{sub_label}*{task_label}*bdf'))\n",
    "    print(f'task-{task_label} bdf files:', bdf_list)\n",
    "\n",
    "    epoch_list = []\n",
    "\n",
    "    ''' # COMBINED AND MOVED UP OUTSIDE THIS LOOP\n",
    "    if task_label == 'motor':\n",
    "        event_dict = {'button_press/1': 6144,\n",
    "                        'button_press/2': 10240,\n",
    "                        'button_press/3': 18432,\n",
    "                        'button_press/4': 34816}\n",
    "    if task_label == 'active':\n",
    "        event_dict = {'sound/pos': 2049,\n",
    "                        'sound/neg': 2050,\n",
    "                        'button_press/1': 6144,\n",
    "                        'button_press/2': 10240,\n",
    "                        'button_press/3': 18432,\n",
    "                        'button_press/4': 34816,\n",
    "                        }\n",
    "    elif task_label == 'passive'::\n",
    "        event_dict = {'sound/pos': 2049,\n",
    "                        'sound/neg': 2050}\n",
    "    '''\n",
    "\n",
    "    for rx, bdf_path in enumerate(bdf_list):\n",
    "        print(f'Loading task-{task_label} run-{rx+1}')\n",
    "\n",
    "        # load in EEG data\n",
    "        data = mne.io.read_raw_bdf(bdf_path, preload=True)\n",
    "        \n",
    "        #try:\n",
    "\n",
    "        # re-reference data to linked mastoid reference\n",
    "        data_ref = data.set_eeg_reference(ref_channels=['M1', 'M2'])\n",
    "        \n",
    "        # filter data\n",
    "        data_filtered = data_ref.copy().filter(l_freq=70, h_freq=2000)\n",
    "        \n",
    "        # find events\n",
    "        events = mne.find_events(data_filtered, \n",
    "                                 stim_channel='Status', \n",
    "                                 initial_event=True)\n",
    "        \n",
    "        # epoch data based on stimulus events\n",
    "        epochs = mne.Epochs(data_filtered, \n",
    "                            events, \n",
    "                            event_id=event_dict,\n",
    "                            on_missing='warn',\n",
    "                            picks=['Cz'],\n",
    "                            tmin=-0.04, tmax=0.3, \n",
    "                            baseline=[-0.04, 0],\n",
    "                            reject=dict(eeg=75e-6)).drop_bad()\n",
    "        \n",
    "        epoch_list.append(epochs)\n",
    "\n",
    "        #except:\n",
    "        #    print(f\"No run {run_label} for task-{task_label}\")\n",
    "    \n",
    "    # combine epochs across runs\n",
    "    all_epochs = mne.concatenate_epochs(epoch_list)\n",
    "    epochs.save(f'sub-{sub_label}_task-{task_label}_run-all_epochs.fif', overwrite=True)\n",
    "    \n",
    "    # create evoked average from across-run epochs\n",
    "    event_evoked = all_epochs.average(by_event_type=True)\n",
    "    all_evoked = all_epochs.average()\n",
    "\n",
    "    # add to results dict\n",
    "    event_evoked_dict[task_label] = event_evoked\n",
    "    task_evoked_dict[task_label] = all_evoked\n",
    "\n"
   ]
  },
  {
   "cell_type": "markdown",
   "metadata": {},
   "source": [
    "### Plot individual polarities"
   ]
  },
  {
   "cell_type": "code",
   "execution_count": null,
   "metadata": {},
   "outputs": [],
   "source": [
    "event_evoked_dict"
   ]
  },
  {
   "cell_type": "code",
   "execution_count": null,
   "metadata": {},
   "outputs": [],
   "source": []
  }
 ],
 "metadata": {
  "kernelspec": {
   "display_name": "py24",
   "language": "python",
   "name": "python3"
  },
  "language_info": {
   "codemirror_mode": {
    "name": "ipython",
    "version": 3
   },
   "file_extension": ".py",
   "mimetype": "text/x-python",
   "name": "python",
   "nbconvert_exporter": "python",
   "pygments_lexer": "ipython3",
   "version": "3.12.0"
  }
 },
 "nbformat": 4,
 "nbformat_minor": 2
}
